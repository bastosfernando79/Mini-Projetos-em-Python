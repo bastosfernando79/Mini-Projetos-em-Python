{
 "cells": [
  {
   "cell_type": "code",
   "execution_count": 53,
   "metadata": {},
   "outputs": [],
   "source": [
    "import requests\n",
    "from bs4 import BeautifulSoup"
   ]
  },
  {
   "cell_type": "markdown",
   "metadata": {},
   "source": [
    "OPGG"
   ]
  },
  {
   "cell_type": "code",
   "execution_count": 65,
   "metadata": {},
   "outputs": [
    {
     "name": "stdout",
     "output_type": "stream",
     "text": [
      "Tier: master\n"
     ]
    }
   ],
   "source": [
    "def obter_tier(opgg_url):\n",
    "    try:\n",
    "        # Adicione um cabeçalho User-Agent para simular um navegador\n",
    "        headers = {'User-Agent': 'Mozilla/5.0 (Windows NT 10.0; Win64; x64) AppleWebKit/537.36 (KHTML, like Gecko) Chrome/91.0.4472.124 Safari/537.36'}\n",
    "\n",
    "        # Fazendo a requisição para a página do jogador no op.gg\n",
    "        response = requests.get(opgg_url, headers=headers)\n",
    "        response.raise_for_status()\n",
    "\n",
    "        # Criando o objeto BeautifulSoup\n",
    "        soup = BeautifulSoup(response.text, 'html.parser')\n",
    "\n",
    "        # Encontrando o elemento que contém as informações do tier\n",
    "        tier_element = soup.find('div', {'class': 'tier'})\n",
    "        tier = tier_element.text.strip() if tier_element else \"Não encontrado\"\n",
    "\n",
    "        return tier\n",
    "    except requests.exceptions.HTTPError as http_err:\n",
    "        return f\"Erro HTTP: {http_err}\"\n",
    "    except requests.exceptions.RequestException as req_err:\n",
    "        return f\"Erro na requisição: {req_err}\"\n",
    "    except Exception as e:\n",
    "        return f\"Erro desconhecido: {e}\"\n",
    "    finally:\n",
    "        # Certifique-se de fechar a conexão, independentemente do resultado\n",
    "        if 'response' in locals():\n",
    "            response.close()\n",
    "\n",
    "# Exemplo de uso\n",
    "opgg_url = 'https://www.op.gg/summoners/br/bugino-BR1'\n",
    "tier_result = obter_tier(opgg_url)\n",
    "print(f'Tier: {tier_result}')"
   ]
  },
  {
   "cell_type": "code",
   "execution_count": 84,
   "metadata": {},
   "outputs": [
    {
     "name": "stdout",
     "output_type": "stream",
     "text": [
      "A palavra \"Diamond\" aparece 1 vezes no link fornecido.\n"
     ]
    }
   ],
   "source": [
    "import requests\n",
    "from bs4 import BeautifulSoup\n",
    "import re\n",
    "\n",
    "def contar_palavra_em_url(url, palavra):\n",
    "    # Adiciona um cabeçalho de agente de usuário à solicitação\n",
    "    headers = {\n",
    "        'User-Agent': 'Mozilla/5.0 (Windows NT 10.0; Win64; x64) AppleWebKit/537.36 (KHTML, like Gecko) Chrome/91.0.4472.124 Safari/537.36'\n",
    "    }\n",
    "\n",
    "    # Faz a requisição para obter o conteúdo da página\n",
    "    resposta = requests.get(url, headers=headers)\n",
    "\n",
    "    # Verifica se a requisição foi bem-sucedida (código 200)\n",
    "    if resposta.status_code == 200:\n",
    "        # Obtém o conteúdo da página\n",
    "        conteudo_pagina = resposta.text\n",
    "\n",
    "        # Usa BeautifulSoup para analisar o HTML\n",
    "        soup = BeautifulSoup(conteudo_pagina, 'html.parser')\n",
    "\n",
    "        # Converte o texto para minúsculas\n",
    "        texto_min = soup.text.lower()\n",
    "\n",
    "        # Usa expressão regular para encontrar todas as palavras que contenham \"diamond\"\n",
    "        ocorrencias = re.findall(r'\\bdiamond\\b', texto_min)\n",
    "\n",
    "        # Retorna o número de ocorrências encontradas\n",
    "        return len(ocorrencias)\n",
    "    else:\n",
    "        # Se a requisição não for bem-sucedida, imprime uma mensagem de erro\n",
    "        print(f\"Erro ao acessar a página. Código de status: {resposta.status_code}\")\n",
    "        return None\n",
    "\n",
    "# URL do link fornecido\n",
    "url = 'https://www.op.gg/leaderboards/champions/alistar?region=br'\n",
    "\n",
    "# Palavra a ser contada\n",
    "palavra_alvo = 'Diamond'\n",
    "\n",
    "# Chama a função para contar as ocorrências da palavra na URL\n",
    "quantidade_ocorrencias = contar_palavra_em_url(url, palavra_alvo)\n",
    "\n",
    "# Verifica se houve algum resultado\n",
    "if quantidade_ocorrencias is not None:\n",
    "    print(f'A palavra \"{palavra_alvo}\" aparece {quantidade_ocorrencias} vezes no link fornecido.')\n"
   ]
  },
  {
   "cell_type": "code",
   "execution_count": 86,
   "metadata": {},
   "outputs": [
    {
     "ename": "InvalidArgumentException",
     "evalue": "Message: invalid argument: invalid locator\n  (Session info: chrome=120.0.6099.218)\nStacktrace:\n\tGetHandleVerifier [0x00007FF7CAD12142+3514994]\n\t(No symbol) [0x00007FF7CA930CE2]\n\t(No symbol) [0x00007FF7CA7D76AA]\n\t(No symbol) [0x00007FF7CA820EF5]\n\t(No symbol) [0x00007FF7CA82197C]\n\t(No symbol) [0x00007FF7CA864EE7]\n\t(No symbol) [0x00007FF7CA84602F]\n\t(No symbol) [0x00007FF7CA8628F6]\n\t(No symbol) [0x00007FF7CA845D93]\n\t(No symbol) [0x00007FF7CA814BDC]\n\t(No symbol) [0x00007FF7CA815C64]\n\tGetHandleVerifier [0x00007FF7CAD3E16B+3695259]\n\tGetHandleVerifier [0x00007FF7CAD96737+4057191]\n\tGetHandleVerifier [0x00007FF7CAD8E4E3+4023827]\n\tGetHandleVerifier [0x00007FF7CAA604F9+689705]\n\t(No symbol) [0x00007FF7CA93C048]\n\t(No symbol) [0x00007FF7CA938044]\n\t(No symbol) [0x00007FF7CA9381C9]\n\t(No symbol) [0x00007FF7CA9288C4]\n\tBaseThreadInitThunk [0x00007FFFB8B5257D+29]\n\tRtlUserThreadStart [0x00007FFFBA82AA58+40]\n",
     "output_type": "error",
     "traceback": [
      "\u001b[1;31m---------------------------------------------------------------------------\u001b[0m",
      "\u001b[1;31mInvalidArgumentException\u001b[0m                  Traceback (most recent call last)",
      "Cell \u001b[1;32mIn[86], line 35\u001b[0m\n\u001b[0;32m     32\u001b[0m palavra_alvo \u001b[38;5;241m=\u001b[39m \u001b[38;5;124m'\u001b[39m\u001b[38;5;124mDiamond\u001b[39m\u001b[38;5;124m'\u001b[39m\n\u001b[0;32m     34\u001b[0m \u001b[38;5;66;03m# Chama a função para contar as ocorrências da palavra na URL\u001b[39;00m\n\u001b[1;32m---> 35\u001b[0m quantidade_ocorrencias \u001b[38;5;241m=\u001b[39m \u001b[43mcontar_palavra_com_selenium\u001b[49m\u001b[43m(\u001b[49m\u001b[43murl\u001b[49m\u001b[43m,\u001b[49m\u001b[43m \u001b[49m\u001b[43mpalavra_alvo\u001b[49m\u001b[43m)\u001b[49m\n\u001b[0;32m     37\u001b[0m \u001b[38;5;66;03m# Exibe o resultado\u001b[39;00m\n\u001b[0;32m     38\u001b[0m \u001b[38;5;28mprint\u001b[39m(\u001b[38;5;124mf\u001b[39m\u001b[38;5;124m'\u001b[39m\u001b[38;5;124mA palavra \u001b[39m\u001b[38;5;124m\"\u001b[39m\u001b[38;5;132;01m{\u001b[39;00mpalavra_alvo\u001b[38;5;132;01m}\u001b[39;00m\u001b[38;5;124m\"\u001b[39m\u001b[38;5;124m aparece \u001b[39m\u001b[38;5;132;01m{\u001b[39;00mquantidade_ocorrencias\u001b[38;5;132;01m}\u001b[39;00m\u001b[38;5;124m vezes no link fornecido.\u001b[39m\u001b[38;5;124m'\u001b[39m)\n",
      "Cell \u001b[1;32mIn[86], line 17\u001b[0m, in \u001b[0;36mcontar_palavra_com_selenium\u001b[1;34m(url, palavra)\u001b[0m\n\u001b[0;32m     14\u001b[0m time\u001b[38;5;241m.\u001b[39msleep(\u001b[38;5;241m2\u001b[39m)\n\u001b[0;32m     16\u001b[0m \u001b[38;5;66;03m# Encontra o corpo da página\u001b[39;00m\n\u001b[1;32m---> 17\u001b[0m body \u001b[38;5;241m=\u001b[39m \u001b[43mdriver\u001b[49m\u001b[38;5;241;43m.\u001b[39;49m\u001b[43mfind_element\u001b[49m\u001b[43m(\u001b[49m\u001b[38;5;124;43m\"\u001b[39;49m\u001b[38;5;124;43mbody\u001b[39;49m\u001b[38;5;124;43m\"\u001b[39;49m\u001b[43m)\u001b[49m\n\u001b[0;32m     19\u001b[0m \u001b[38;5;66;03m# Usa o método execute_script para injetar JavaScript para contar as ocorrências da palavra\u001b[39;00m\n\u001b[0;32m     20\u001b[0m quantidade_ocorrencias \u001b[38;5;241m=\u001b[39m driver\u001b[38;5;241m.\u001b[39mexecute_script(\u001b[38;5;124mf\u001b[39m\u001b[38;5;124m\"\u001b[39m\u001b[38;5;124mreturn (arguments[0].textContent || arguments[0].innerText).toLowerCase().split(\u001b[39m\u001b[38;5;124m'\u001b[39m\u001b[38;5;132;01m{\u001b[39;00mpalavra\u001b[38;5;241m.\u001b[39mlower()\u001b[38;5;132;01m}\u001b[39;00m\u001b[38;5;124m'\u001b[39m\u001b[38;5;124m).length - 1;\u001b[39m\u001b[38;5;124m\"\u001b[39m, body)\n",
      "File \u001b[1;32m~\\AppData\\Local\\Packages\\PythonSoftwareFoundation.Python.3.11_qbz5n2kfra8p0\\LocalCache\\local-packages\\Python311\\site-packages\\selenium\\webdriver\\remote\\webdriver.py:742\u001b[0m, in \u001b[0;36mWebDriver.find_element\u001b[1;34m(self, by, value)\u001b[0m\n\u001b[0;32m    739\u001b[0m     by \u001b[38;5;241m=\u001b[39m By\u001b[38;5;241m.\u001b[39mCSS_SELECTOR\n\u001b[0;32m    740\u001b[0m     value \u001b[38;5;241m=\u001b[39m \u001b[38;5;124mf\u001b[39m\u001b[38;5;124m'\u001b[39m\u001b[38;5;124m[name=\u001b[39m\u001b[38;5;124m\"\u001b[39m\u001b[38;5;132;01m{\u001b[39;00mvalue\u001b[38;5;132;01m}\u001b[39;00m\u001b[38;5;124m\"\u001b[39m\u001b[38;5;124m]\u001b[39m\u001b[38;5;124m'\u001b[39m\n\u001b[1;32m--> 742\u001b[0m \u001b[38;5;28;01mreturn\u001b[39;00m \u001b[38;5;28;43mself\u001b[39;49m\u001b[38;5;241;43m.\u001b[39;49m\u001b[43mexecute\u001b[49m\u001b[43m(\u001b[49m\u001b[43mCommand\u001b[49m\u001b[38;5;241;43m.\u001b[39;49m\u001b[43mFIND_ELEMENT\u001b[49m\u001b[43m,\u001b[49m\u001b[43m \u001b[49m\u001b[43m{\u001b[49m\u001b[38;5;124;43m\"\u001b[39;49m\u001b[38;5;124;43musing\u001b[39;49m\u001b[38;5;124;43m\"\u001b[39;49m\u001b[43m:\u001b[49m\u001b[43m \u001b[49m\u001b[43mby\u001b[49m\u001b[43m,\u001b[49m\u001b[43m \u001b[49m\u001b[38;5;124;43m\"\u001b[39;49m\u001b[38;5;124;43mvalue\u001b[39;49m\u001b[38;5;124;43m\"\u001b[39;49m\u001b[43m:\u001b[49m\u001b[43m \u001b[49m\u001b[43mvalue\u001b[49m\u001b[43m}\u001b[49m\u001b[43m)\u001b[49m[\u001b[38;5;124m\"\u001b[39m\u001b[38;5;124mvalue\u001b[39m\u001b[38;5;124m\"\u001b[39m]\n",
      "File \u001b[1;32m~\\AppData\\Local\\Packages\\PythonSoftwareFoundation.Python.3.11_qbz5n2kfra8p0\\LocalCache\\local-packages\\Python311\\site-packages\\selenium\\webdriver\\remote\\webdriver.py:348\u001b[0m, in \u001b[0;36mWebDriver.execute\u001b[1;34m(self, driver_command, params)\u001b[0m\n\u001b[0;32m    346\u001b[0m response \u001b[38;5;241m=\u001b[39m \u001b[38;5;28mself\u001b[39m\u001b[38;5;241m.\u001b[39mcommand_executor\u001b[38;5;241m.\u001b[39mexecute(driver_command, params)\n\u001b[0;32m    347\u001b[0m \u001b[38;5;28;01mif\u001b[39;00m response:\n\u001b[1;32m--> 348\u001b[0m     \u001b[38;5;28;43mself\u001b[39;49m\u001b[38;5;241;43m.\u001b[39;49m\u001b[43merror_handler\u001b[49m\u001b[38;5;241;43m.\u001b[39;49m\u001b[43mcheck_response\u001b[49m\u001b[43m(\u001b[49m\u001b[43mresponse\u001b[49m\u001b[43m)\u001b[49m\n\u001b[0;32m    349\u001b[0m     response[\u001b[38;5;124m\"\u001b[39m\u001b[38;5;124mvalue\u001b[39m\u001b[38;5;124m\"\u001b[39m] \u001b[38;5;241m=\u001b[39m \u001b[38;5;28mself\u001b[39m\u001b[38;5;241m.\u001b[39m_unwrap_value(response\u001b[38;5;241m.\u001b[39mget(\u001b[38;5;124m\"\u001b[39m\u001b[38;5;124mvalue\u001b[39m\u001b[38;5;124m\"\u001b[39m, \u001b[38;5;28;01mNone\u001b[39;00m))\n\u001b[0;32m    350\u001b[0m     \u001b[38;5;28;01mreturn\u001b[39;00m response\n",
      "File \u001b[1;32m~\\AppData\\Local\\Packages\\PythonSoftwareFoundation.Python.3.11_qbz5n2kfra8p0\\LocalCache\\local-packages\\Python311\\site-packages\\selenium\\webdriver\\remote\\errorhandler.py:229\u001b[0m, in \u001b[0;36mErrorHandler.check_response\u001b[1;34m(self, response)\u001b[0m\n\u001b[0;32m    227\u001b[0m         alert_text \u001b[38;5;241m=\u001b[39m value[\u001b[38;5;124m\"\u001b[39m\u001b[38;5;124malert\u001b[39m\u001b[38;5;124m\"\u001b[39m]\u001b[38;5;241m.\u001b[39mget(\u001b[38;5;124m\"\u001b[39m\u001b[38;5;124mtext\u001b[39m\u001b[38;5;124m\"\u001b[39m)\n\u001b[0;32m    228\u001b[0m     \u001b[38;5;28;01mraise\u001b[39;00m exception_class(message, screen, stacktrace, alert_text)  \u001b[38;5;66;03m# type: ignore[call-arg]  # mypy is not smart enough here\u001b[39;00m\n\u001b[1;32m--> 229\u001b[0m \u001b[38;5;28;01mraise\u001b[39;00m exception_class(message, screen, stacktrace)\n",
      "\u001b[1;31mInvalidArgumentException\u001b[0m: Message: invalid argument: invalid locator\n  (Session info: chrome=120.0.6099.218)\nStacktrace:\n\tGetHandleVerifier [0x00007FF7CAD12142+3514994]\n\t(No symbol) [0x00007FF7CA930CE2]\n\t(No symbol) [0x00007FF7CA7D76AA]\n\t(No symbol) [0x00007FF7CA820EF5]\n\t(No symbol) [0x00007FF7CA82197C]\n\t(No symbol) [0x00007FF7CA864EE7]\n\t(No symbol) [0x00007FF7CA84602F]\n\t(No symbol) [0x00007FF7CA8628F6]\n\t(No symbol) [0x00007FF7CA845D93]\n\t(No symbol) [0x00007FF7CA814BDC]\n\t(No symbol) [0x00007FF7CA815C64]\n\tGetHandleVerifier [0x00007FF7CAD3E16B+3695259]\n\tGetHandleVerifier [0x00007FF7CAD96737+4057191]\n\tGetHandleVerifier [0x00007FF7CAD8E4E3+4023827]\n\tGetHandleVerifier [0x00007FF7CAA604F9+689705]\n\t(No symbol) [0x00007FF7CA93C048]\n\t(No symbol) [0x00007FF7CA938044]\n\t(No symbol) [0x00007FF7CA9381C9]\n\t(No symbol) [0x00007FF7CA9288C4]\n\tBaseThreadInitThunk [0x00007FFFB8B5257D+29]\n\tRtlUserThreadStart [0x00007FFFBA82AA58+40]\n"
     ]
    }
   ],
   "source": [
    "from selenium import webdriver\n",
    "from selenium.webdriver.common.keys import Keys\n",
    "import time\n",
    "\n",
    "def contar_palavra_com_selenium(url, palavra):\n",
    "    # Configuração do WebDriver (certifique-se de ter o ChromeDriver instalado e no PATH)\n",
    "    driver = webdriver.Chrome()\n",
    "\n",
    "    try:\n",
    "        # Abre a página\n",
    "        driver.get(url)\n",
    "\n",
    "        # Espera um curto período para garantir que a página seja totalmente carregada\n",
    "        time.sleep(2)\n",
    "\n",
    "        # Encontra o corpo da página\n",
    "        body = driver.find_element(\"body\")\n",
    "\n",
    "        # Usa o método execute_script para injetar JavaScript para contar as ocorrências da palavra\n",
    "        quantidade_ocorrencias = driver.execute_script(f\"return (arguments[0].textContent || arguments[0].innerText).toLowerCase().split('{palavra.lower()}').length - 1;\", body)\n",
    "\n",
    "        return quantidade_ocorrencias\n",
    "\n",
    "    finally:\n",
    "        # Fecha o navegador\n",
    "        driver.quit()\n",
    "\n",
    "# URL do link fornecido\n",
    "url = 'https://www.op.gg/leaderboards/champions/alistar?region=br'\n",
    "\n",
    "# Palavra a ser contada\n",
    "palavra_alvo = 'Diamond'\n",
    "\n",
    "# Chama a função para contar as ocorrências da palavra na URL\n",
    "quantidade_ocorrencias = contar_palavra_com_selenium(url, palavra_alvo)\n",
    "\n",
    "# Exibe o resultado\n",
    "print(f'A palavra \"{palavra_alvo}\" aparece {quantidade_ocorrencias} vezes no link fornecido.')\n"
   ]
  },
  {
   "cell_type": "markdown",
   "metadata": {},
   "source": [
    "LeagueofGraphics"
   ]
  },
  {
   "cell_type": "code",
   "execution_count": 71,
   "metadata": {},
   "outputs": [
    {
     "name": "stdout",
     "output_type": "stream",
     "text": [
      "Tier: Diamante III                                                                            \n",
      "                                            99 Pontos na Liga\n"
     ]
    }
   ],
   "source": [
    "def obter_tierLeagueofGraphics(opgg_url):\n",
    "    try:\n",
    "        # Adicione um cabeçalho User-Agent para simular um navegador\n",
    "        headers = {'User-Agent': 'Mozilla/5.0 (Windows NT 10.0; Win64; x64) AppleWebKit/537.36 (KHTML, like Gecko) Chrome/91.0.4472.124 Safari/537.36'}\n",
    "\n",
    "        # Fazendo a requisição para a página do jogador no op.gg\n",
    "        response = requests.get(opgg_url, headers=headers)\n",
    "        response.raise_for_status()\n",
    "\n",
    "        # Criando o objeto BeautifulSoup\n",
    "        soup = BeautifulSoup(response.text, 'html.parser')\n",
    "\n",
    "        # Encontrando o elemento que contém as informações do tier\n",
    "        tier_element = soup.find('div', {'class': 'leagueTier'})\n",
    "        tier = tier_element.text.strip() if tier_element else \"Não encontrado\"\n",
    "\n",
    "        return tier\n",
    "    except requests.exceptions.HTTPError as http_err:\n",
    "        return f\"Erro HTTP: {http_err}\"\n",
    "    except requests.exceptions.RequestException as req_err:\n",
    "        return f\"Erro na requisição: {req_err}\"\n",
    "    except Exception as e:\n",
    "        return f\"Erro desconhecido: {e}\"\n",
    "    finally:\n",
    "        # Certifique-se de fechar a conexão, independentemente do resultado\n",
    "        if 'response' in locals():\n",
    "            response.close()\n",
    "\n",
    "# Exemplo de uso\n",
    "opgg_url = 'https://www.leagueofgraphs.com/pt/summoner/br/Handast-92749'\n",
    "tier_result = obter_tierLeagueofGraphics(opgg_url)\n",
    "print(f'Tier: {tier_result}')"
   ]
  },
  {
   "cell_type": "code",
   "execution_count": 74,
   "metadata": {},
   "outputs": [
    {
     "name": "stdout",
     "output_type": "stream",
     "text": [
      "Top Jogadores: Erro desconhecido: 'href'\n"
     ]
    }
   ],
   "source": [
    "def obter_top_jogadoresLeagueGraphics(opgg_url):\n",
    "    try:\n",
    "        # Adicione um cabeçalho User-Agent para simular um navegador\n",
    "        headers = {'User-Agent': 'Mozilla/5.0 (Windows NT 10.0; Win64; x64) AppleWebKit/537.36 (KHTML, like Gecko) Chrome/91.0.4472.124 Safari/537.36'}\n",
    "\n",
    "        # Fazendo a requisição para a página do campeão no op.gg\n",
    "        response = requests.get(opgg_url, headers=headers)\n",
    "        response.raise_for_status()\n",
    "\n",
    "        # Criando o objeto BeautifulSoup\n",
    "        soup = BeautifulSoup(response.text, 'html.parser')\n",
    "\n",
    "        # Encontrando os elementos que contêm os links/nomes dos melhores jogadores\n",
    "        top_players_elements = soup.find_all('span', {'class': 'name'})\n",
    "        \n",
    "        # Extraindo os links/nomes\n",
    "        top_players = [player['href'] for player in top_players_elements]  # Use 'text' se quiser extrair os nomes\n",
    "\n",
    "        return top_players\n",
    "    except requests.exceptions.HTTPError as http_err:\n",
    "        return f\"Erro HTTP: {http_err}\"\n",
    "    except requests.exceptions.RequestException as req_err:\n",
    "        return f\"Erro na requisição: {req_err}\"\n",
    "    except Exception as e:\n",
    "        return f\"Erro desconhecido: {e}\"\n",
    "    finally:\n",
    "        # Certifique-se de fechar a conexão, independentemente do resultado\n",
    "        if 'response' in locals():\n",
    "            response.close()\n",
    "\n",
    "opgg_url_champion = 'https://www.leagueofgraphs.com/pt/rankings/summoners/rammus/br'\n",
    "top_players_result = obter_top_jogadoresLeagueGraphics(opgg_url_champion)\n",
    "print(f'Top Jogadores: {top_players_result}')"
   ]
  }
 ],
 "metadata": {
  "kernelspec": {
   "display_name": "Python 3",
   "language": "python",
   "name": "python3"
  },
  "language_info": {
   "codemirror_mode": {
    "name": "ipython",
    "version": 3
   },
   "file_extension": ".py",
   "mimetype": "text/x-python",
   "name": "python",
   "nbconvert_exporter": "python",
   "pygments_lexer": "ipython3",
   "version": "3.11.7"
  }
 },
 "nbformat": 4,
 "nbformat_minor": 2
}
