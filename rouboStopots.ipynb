{
  "nbformat": 4,
  "nbformat_minor": 0,
  "metadata": {
    "colab": {
      "provenance": [],
      "authorship_tag": "ABX9TyODZ+NfknKtCk5RoR4GSnsX",
      "include_colab_link": true
    },
    "kernelspec": {
      "name": "python3",
      "display_name": "Python 3"
    },
    "language_info": {
      "name": "python"
    }
  },
  "cells": [
    {
      "cell_type": "markdown",
      "metadata": {
        "id": "view-in-github",
        "colab_type": "text"
      },
      "source": [
        "<a href=\"https://colab.research.google.com/github/bastosfernando79/Mini-Projetos-em-Python/blob/main/rouboStopots.ipynb\" target=\"_parent\"><img src=\"https://colab.research.google.com/assets/colab-badge.svg\" alt=\"Open In Colab\"/></a>"
      ]
    },
    {
      "cell_type": "code",
      "source": [
        "import requests\n",
        "\n",
        "def encontrar_pais_por_letra(letra):\n",
        "    # URL da API de países\n",
        "    url = \"https://restcountries.com/v3.1/all\"\n",
        "\n",
        "    try:\n",
        "        # Faz a requisição à API\n",
        "        response = requests.get(url)\n",
        "        data = response.json()\n",
        "\n",
        "        # Filtra os países cujo nome começa com a letra fornecida\n",
        "        paises_com_letra = [pais[\"name\"][\"common\"] for pais in data if pais[\"name\"][\"common\"].lower().startswith(letra.lower())]\n",
        "\n",
        "        if paises_com_letra:\n",
        "            return paises_com_letra[0]  # Retorna o primeiro país encontrado\n",
        "        else:\n",
        "            return \"Nenhum país encontrado com essa letra.\"\n",
        "\n",
        "    except Exception as e:\n",
        "        return f\"Erro ao buscar países: {str(e)}\"\n",
        "\n",
        "# Solicita a letra ao usuário\n",
        "letra_input = input(\"Digite uma letra: \")\n",
        "\n",
        "# Chama a função para encontrar o país\n",
        "pais_encontrado = encontrar_pais_por_letra(letra_input)\n",
        "\n",
        "print(f\"País que começa com '{letra_input.upper()}': {pais_encontrado}\")"
      ],
      "metadata": {
        "colab": {
          "base_uri": "https://localhost:8080/"
        },
        "id": "puYw3F7yW2zU",
        "outputId": "450e7ff5-5c7a-48b8-d166-623a2785727a"
      },
      "execution_count": null,
      "outputs": [
        {
          "output_type": "stream",
          "name": "stdout",
          "text": [
            "Digite uma letra: a\n",
            "País que começa com 'A': American Samoa\n"
          ]
        }
      ]
    },
    {
      "cell_type": "code",
      "source": [
        "import csv\n",
        "\n",
        "def obter_info_linha(arquivo_csv, numero_linha):\n",
        "    try:\n",
        "        with open(arquivo_csv, newline='', encoding='utf-8') as csvfile:\n",
        "            leitor_csv = csv.reader(csvfile)\n",
        "\n",
        "            # Pula as linhas até chegar à linha desejada\n",
        "            for _ in range(numero_linha - 1):\n",
        "                next(leitor_csv)\n",
        "\n",
        "            # Obtém as informações da linha desejada\n",
        "            linha_desejada = next(leitor_csv)\n",
        "\n",
        "            return linha_desejada\n",
        "\n",
        "    except FileNotFoundError:\n",
        "        return \"Arquivo CSV não encontrado.\"\n",
        "    except IndexError:\n",
        "        return \"Número da linha fora do alcance.\"\n",
        "    except Exception as e:\n",
        "        return f\"Erro: {e}\"\n",
        "\n",
        "# Exemplo de uso\n",
        "arquivo_csv = '/content/adedonha v1 - Página1.csv'\n",
        "numero_linha = int(input(\"Digite o número da linha: \"))\n",
        "\n",
        "informacoes_linha = obter_info_linha(arquivo_csv, numero_linha)\n",
        "\n",
        "if isinstance(informacoes_linha, list):\n",
        "    print(\"Informações da linha:\")\n",
        "    print(informacoes_linha)\n",
        "else:\n",
        "    print(informacoes_linha)\n"
      ],
      "metadata": {
        "colab": {
          "base_uri": "https://localhost:8080/"
        },
        "id": "RIZH-YdDuWjf",
        "outputId": "5c9d53bf-5751-45d6-eb9a-f69408e87bac"
      },
      "execution_count": null,
      "outputs": [
        {
          "output_type": "stream",
          "name": "stdout",
          "text": [
            "Digite o número da linha: 2\n",
            "Informações da linha:\n",
            "['A', 'ace attorney', 'argentina', 'avatar', 'arrow', 'apple', 'abacaxi', 'azul', 'alvin', 'angelina jolie']\n"
          ]
        }
      ]
    },
    {
      "cell_type": "code",
      "source": [
        "import csv\n",
        "\n",
        "def obter_info_linhas(arquivo_csv, numero_linha):\n",
        "    try:\n",
        "        with open(arquivo_csv, newline='', encoding='utf-8') as csvfile:\n",
        "            leitor_csv = csv.reader(csvfile)\n",
        "\n",
        "            # Obtém as informações da linha 1\n",
        "            linha1 = next(leitor_csv)\n",
        "\n",
        "            # Pula as linhas até chegar à linha desejada\n",
        "            for _ in range(numero_linha - 2):  # -2 porque já lemos a linha 1\n",
        "                next(leitor_csv)\n",
        "\n",
        "            # Obtém as informações da linha desejada\n",
        "            linha_desejada = next(leitor_csv)\n",
        "\n",
        "            return linha1, linha_desejada\n",
        "\n",
        "    except FileNotFoundError:\n",
        "        return \"Arquivo CSV não encontrado.\"\n",
        "    except IndexError:\n",
        "        return \"Número da linha fora do alcance.\"\n",
        "    except Exception as e:\n",
        "        return f\"Erro: {e}\"\n",
        "\n",
        "# Exemplo de uso\n",
        "arquivo_csv = '/content/adedonha v1 - Página1.csv'\n",
        "numero_linha = int(input(\"Digite o número da linha: \"))\n",
        "\n",
        "info_linhas = obter_info_linhas(arquivo_csv, numero_linha)\n",
        "\n",
        "if isinstance(info_linhas, tuple):\n",
        "    linha1, linha_desejada = info_linhas\n",
        "    print(\"Informações da linha 1:\")\n",
        "    print(linha1)\n",
        "    print(\"\\nInformações da linha desejada:\")\n",
        "    print(linha_desejada)\n",
        "else:\n",
        "    print(info_linhas)\n"
      ],
      "metadata": {
        "colab": {
          "base_uri": "https://localhost:8080/"
        },
        "id": "HMJhcvH2u4P8",
        "outputId": "8dd32f05-212a-4493-afb8-76800eecbfaf"
      },
      "execution_count": null,
      "outputs": [
        {
          "output_type": "stream",
          "name": "stdout",
          "text": [
            "Digite o número da linha: 4\n",
            "Informações da linha 1:\n",
            "['', 'GAME ', 'PAÍS', 'FILME', 'SÉRIES', 'MARCA', 'COMIDA', 'COR', 'PERSONAGEM', 'CELEBRIDADES']\n",
            "\n",
            "Informações da linha desejada:\n",
            "['C', 'call of duty', 'canadá', 'click', 'chernobyl', 'chevrolet', 'chocolate', 'cinza', 'cinderela', 'cristiano ronaldo']\n"
          ]
        }
      ]
    },
    {
      "cell_type": "markdown",
      "source": [
        "#CÓDIGO FINAL"
      ],
      "metadata": {
        "id": "2xi_HEDb0lyG"
      }
    },
    {
      "cell_type": "code",
      "source": [
        "import pandas as pd\n",
        "\n",
        "def obter_info_letra_pandas(arquivo_csv, letra):\n",
        "    try:\n",
        "        # Carrega o arquivo CSV para um DataFrame\n",
        "        df = pd.read_csv(arquivo_csv)\n",
        "\n",
        "        # Procura a linha com base na letra na primeira coluna\n",
        "        linha_desejada = df[df.iloc[:, 0] == letra]\n",
        "\n",
        "        if not linha_desejada.empty:\n",
        "            return linha_desejada.iloc[0]\n",
        "        else:\n",
        "            return f\"Nenhuma linha encontrada com a letra {letra}.\"\n",
        "\n",
        "    except FileNotFoundError:\n",
        "        return \"Arquivo CSV não encontrado.\"\n",
        "    except Exception as e:\n",
        "        return f\"Erro: {e}\"\n",
        "\n",
        "# Exemplo de uso\n",
        "arquivo_csv = '/content/adedonha v1 - Página1.csv'\n",
        "letra = input(\"Digite a letra para encontrar a linha desejada: \")\n",
        "\n",
        "info_linha = obter_info_letra_pandas(arquivo_csv, letra)\n",
        "\n",
        "if isinstance(info_linha, pd.Series):\n",
        "    print(\"Informações da linha desejada:\")\n",
        "    print(info_linha)\n",
        "else:\n",
        "    print(info_linha)"
      ],
      "metadata": {
        "colab": {
          "base_uri": "https://localhost:8080/"
        },
        "id": "vz7YvD-GxM1g",
        "outputId": "ca5cd785-aec9-4aec-8b01-e84947bf95b6"
      },
      "execution_count": null,
      "outputs": [
        {
          "output_type": "stream",
          "name": "stdout",
          "text": [
            "Digite a letra para encontrar a linha desejada: J\n",
            "Informações da linha desejada:\n",
            "Unnamed: 0                  J\n",
            "GAME               just cause\n",
            "PAÍS                    japão\n",
            "FILME           jurassic park\n",
            "SÉRIES                    NaN\n",
            "MARCA                    jeep\n",
            "COMIDA                  jambo\n",
            "COR                      jade\n",
            "PERSONAGEM         james bond\n",
            "CELEBRIDADES         juliette\n",
            "Name: 9, dtype: object\n"
          ]
        }
      ]
    }
  ]
}